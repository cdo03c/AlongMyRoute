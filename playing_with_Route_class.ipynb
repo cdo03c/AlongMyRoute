{
 "cells": [
  {
   "cell_type": "code",
   "execution_count": 34,
   "metadata": {},
   "outputs": [],
   "source": [
    "import alongmyroute.route as route\n",
    "import googlemaps\n",
    "\n",
    "import importlib"
   ]
  },
  {
   "cell_type": "code",
   "execution_count": 41,
   "metadata": {},
   "outputs": [
    {
     "data": {
      "text/plain": [
       "<module 'alongmyroute.route' from '/Users/k784648/AlongMyRoute/alongmyroute/route.py'>"
      ]
     },
     "execution_count": 41,
     "metadata": {},
     "output_type": "execute_result"
    }
   ],
   "source": [
    "# Use this cell to reload the module if you save any changes to it\n",
    "importlib.reload(route)"
   ]
  },
  {
   "cell_type": "code",
   "execution_count": 5,
   "metadata": {},
   "outputs": [],
   "source": [
    "#Load API_KEY from api_key.txt\n",
    "with open('api_key.txt') as r:\n",
    "    API_KEY = r.readline()\n",
    "\n",
    "# creating googlemaps connection Client\n",
    "gmaps = googlemaps.Client(key=API_KEY)"
   ]
  },
  {
   "cell_type": "code",
   "execution_count": 7,
   "metadata": {
    "collapsed": true
   },
   "outputs": [],
   "source": [
    "def get_sample_route(output='json',\n",
    "                    origin = '7341+Crestleigh+Circle+Alexandria+VA',\n",
    "                    destination = 'Chicago+IL',\n",
    "                    mode='',\n",
    "                    arrival_time='',\n",
    "                    departure_time='',\n",
    "                    key=API_KEY):\n",
    "    return gmaps.directions(origin=origin,\n",
    "                            destination=destination,\n",
    "                            mode=mode,\n",
    "                            arrival_time=arrival_time,\n",
    "                            departure_time=departure_time)"
   ]
  },
  {
   "cell_type": "markdown",
   "metadata": {},
   "source": [
    "Make the sample request and initialize an insance of the Route class from our alongmyroute.route module"
   ]
  },
  {
   "cell_type": "code",
   "execution_count": 9,
   "metadata": {},
   "outputs": [],
   "source": [
    "test_route = get_sample_route()\n",
    "\n",
    "TestRoute = route.Route(test_route)"
   ]
  },
  {
   "cell_type": "markdown",
   "metadata": {},
   "source": [
    "Showing off a few of the variables that were extracted when the class was initialized"
   ]
  },
  {
   "cell_type": "code",
   "execution_count": 44,
   "metadata": {},
   "outputs": [
    {
     "data": {
      "text/plain": [
       "1135692"
      ]
     },
     "execution_count": 44,
     "metadata": {},
     "output_type": "execute_result"
    }
   ],
   "source": [
    "TestRoute.distance"
   ]
  },
  {
   "cell_type": "code",
   "execution_count": 52,
   "metadata": {},
   "outputs": [
    {
     "data": {
      "text/plain": [
       "'7341 Crestleigh Cir, Alexandria, VA 22315, USA'"
      ]
     },
     "execution_count": 52,
     "metadata": {},
     "output_type": "execute_result"
    }
   ],
   "source": [
    "TestRoute.start_address"
   ]
  },
  {
   "cell_type": "code",
   "execution_count": 51,
   "metadata": {},
   "outputs": [
    {
     "data": {
      "text/plain": [
       "'Chicago, IL, USA'"
      ]
     },
     "execution_count": 51,
     "metadata": {},
     "output_type": "execute_result"
    }
   ],
   "source": [
    "TestRoute.end_address"
   ]
  },
  {
   "cell_type": "markdown",
   "metadata": {},
   "source": [
    "Playing around with the find_step_by_time method of the Route class"
   ]
  },
  {
   "cell_type": "code",
   "execution_count": 48,
   "metadata": {},
   "outputs": [
    {
     "data": {
      "text/plain": [
       "{'distance': {'text': '0.9 mi', 'value': 1506},\n",
       " 'duration': {'text': '3 mins', 'value': 161},\n",
       " 'end_location': {'lat': 38.7651309, 'lng': -77.1557536},\n",
       " 'html_instructions': 'Turn <b>left</b> onto <b>Beulah St</b>',\n",
       " 'maneuver': 'turn-left',\n",
       " 'polyline': {'points': 'ocpkFzg~uMF[}CuAYMy@_@oB}@e@S{BcAw@]YOq@_@UQo@m@WWSYQYQ[M[KUQa@u@kBa@q@MQCCCAWK[_@_@]aA{@aB{A[Y_@[We@_ByAWYQQc@_@c@a@i@a@][]WKGy@o@g@a@IGwB_Bc@[c@[g@Y{@a@WIm@Su@YeBm@'},\n",
       " 'start_location': {'lat': 38.7540015, 'lng': -77.1649408},\n",
       " 'travel_mode': 'DRIVING'}"
      ]
     },
     "execution_count": 48,
     "metadata": {},
     "output_type": "execute_result"
    }
   ],
   "source": [
    "TestRoute.find_step_by_time(desired_time=200)"
   ]
  },
  {
   "cell_type": "code",
   "execution_count": 50,
   "metadata": {},
   "outputs": [
    {
     "data": {
      "text/plain": [
       "{'distance': {'text': '10.3 mi', 'value': 16610},\n",
       " 'duration': {'text': '9 mins', 'value': 554},\n",
       " 'end_location': {'lat': 38.94367099999999, 'lng': -77.2035746},\n",
       " 'html_instructions': 'Keep <b>left</b> at the fork to continue on <b>495 Express Lanes</b>/<b>Capital Beltway Inner Loop</b>/<b>Interstate 495 High Occupancy Toll</b><div style=\"font-size:0.9em\">Toll road</div>',\n",
       " 'maneuver': 'fork-left',\n",
       " 'polyline': {'points': 'ukykF`}fvMC\\\\ANAFCFMRWd@U^W^_@f@c@l@_@d@a@b@m@n@c@b@q@j@w@n@oDbCsDdCeNjJmEvCcDrBoDzBwBtAcFfDwCnBsBtAcBhAkBjA{@j@u@b@}@d@{@^iAd@iA\\\\mBf@aBb@eAV_AVw@Pk@Jg@Je@Fa@FaBNsAHc@Bm@@{A@sAEcAC_AGcAKcAMaAQo@Kk@Ok@Om@Ok@Qm@Sy@[m@WsAk@eMkFyAo@y@[{@[m@U{@W}@Y_AU}@Uo@OoAWm@K}@Ok@Kk@Gi@Ik@Go@G}@Gk@Cm@Em@Ci@AcAAm@AaA@m@@m@@k@Dm@Dk@Fk@HuATeJ~AcEr@sEv@_ANuARyAPi@FsANwAL_AFaAHcAFi@BaADwADcAB_ABaA@aA?m@@aA?aA?}@?k@?aA?k@?eA?_A?k@?k@?m@?k@?k@?k@Ai@?eAAmBCm@AsAAcAAeBAeCAuB?u\\\\HkCBaGHuA@cABoB@eG@eE@wA?cD@o@AuD?}SE{AAcCAeIAuBAk@?U?S?aABk@Bk@Bk@D_AHk@F_ANm@Ha@FIBUBeANcBXsGbAeC^mBZuARaALk@Fk@Di@DW@[B_ABg@@i@@k@@m@Am@?_AEm@CaAKy@Km@IsAYm@Qg@M_A[e@SUKuBcAsDmBeCqAaBy@iCuAqEcCqCwAKGiCoA{IkE_DoA}@Y}@Y}@Wk@O_AU_ASg@KaAOkBUwAKw@CiAEy@?aB?yAFsAH_AHcBTcBZcB^wCv@oEhA]H_B`@iCj@e@JyBf@iB\\\\uAVo@Jm@H}@L}BXkD`@g@BgAHk@DsBLmADoDLkDDqC?{A?yEIoEOs@GsAKeAK{Dc@gCY_D_@oBUaAMwAU_AOSEgAU_ASa@Kg@Mc@M[IcBe@c@Ou@UaA]qAc@}@_@qAk@qAk@a@ScFaCmAo@}@g@aBq@eDqAgBs@yAo@kCiA_@QwFcCeBw@_Ae@c@SSKSMcC}AaC}AqBiAiC{A}@e@cB_A}Au@[O{BeAiDaBuDgB}DgBuB_AeCgAmB{@sDcBwEyBoAo@IEAA?AAC?AAQ'},\n",
       " 'start_location': {'lat': 38.8013937, 'lng': -77.2092851},\n",
       " 'travel_mode': 'DRIVING'}"
      ]
     },
     "execution_count": 50,
     "metadata": {},
     "output_type": "execute_result"
    }
   ],
   "source": [
    "TestRoute.find_step_by_time(desired_time=1000)"
   ]
  },
  {
   "cell_type": "code",
   "execution_count": null,
   "metadata": {
    "collapsed": true
   },
   "outputs": [],
   "source": []
  }
 ],
 "metadata": {
  "kernelspec": {
   "display_name": "Python 3",
   "language": "python",
   "name": "python3"
  },
  "language_info": {
   "codemirror_mode": {
    "name": "ipython",
    "version": 3
   },
   "file_extension": ".py",
   "mimetype": "text/x-python",
   "name": "python",
   "nbconvert_exporter": "python",
   "pygments_lexer": "ipython3",
   "version": "3.6.2"
  }
 },
 "nbformat": 4,
 "nbformat_minor": 2
}
